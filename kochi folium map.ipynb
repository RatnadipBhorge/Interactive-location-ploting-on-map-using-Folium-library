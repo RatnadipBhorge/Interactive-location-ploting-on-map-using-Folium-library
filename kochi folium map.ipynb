{
 "cells": [
  {
   "cell_type": "code",
   "execution_count": 5,
   "id": "af9d0af9",
   "metadata": {},
   "outputs": [],
   "source": [
    "import psycopg2\n",
    "import numpy as np\n",
    "import pandas as pd\n",
    "import folium\n",
    "import json\n",
    "# 3rd party modules\n",
    "import pandas as pd\n",
    "import geopandas as gpd\n",
    "from shapely.geometry import Polygon\n",
    "import shapely\n",
    "# needs 'descartes'\n",
    "import matplotlib.pyplot as plt\n",
    "import re\n",
    "import fileinput"
   ]
  },
  {
   "cell_type": "code",
   "execution_count": 6,
   "id": "d6e08c1c",
   "metadata": {},
   "outputs": [],
   "source": [
    "conn=psycopg2.connect(dbname= '',host='',\n",
    "                      port='',\n",
    "                      user='',password='' )"
   ]
  },
  {
   "cell_type": "code",
   "execution_count": null,
   "id": "a7efb720",
   "metadata": {},
   "outputs": [],
   "source": [
    "# OPTION 1---for 25 store using SQL query\n",
    "\n",
    "req_location_data_with_pin=pd.read_sql_query(\"\"\"SELECT\n",
    "location_code,\n",
    "name,\n",
    "lower(city) as city,\n",
    "pincode,\n",
    "format,\n",
    "latitude,\n",
    "longitude\n",
    "from table\n",
    " \"\"\",conn)"
   ]
  },
  {
   "cell_type": "code",
   "execution_count": null,
   "id": "c737a884",
   "metadata": {},
   "outputs": [],
   "source": [
    "req_location_data_with_pin.dropna(how='any',inplace=True)"
   ]
  },
  {
   "cell_type": "code",
   "execution_count": null,
   "id": "84c62249",
   "metadata": {},
   "outputs": [],
   "source": [
    "req_location_data_with_pin.isnull().sum()"
   ]
  },
  {
   "cell_type": "code",
   "execution_count": null,
   "id": "e6ff4b31",
   "metadata": {},
   "outputs": [],
   "source": [
    "req_location_data_with_pin.location_code.unique()"
   ]
  },
  {
   "cell_type": "code",
   "execution_count": null,
   "id": "f07fd413",
   "metadata": {},
   "outputs": [],
   "source": [
    "###converting to float\n",
    "req_location_data_with_pin[\"longitude\"] = pd.to_numeric(req_location_data_with_pin[\"longitude\"], downcast='float')#, errors='coerce')\n",
    "req_location_data_with_pin[\"latitude\"] = req_location_data_with_pin[\"latitude\"].apply(pd.to_numeric, downcast='float', errors='coerce')\n",
    "\n",
    "req_location_data_with_pin[\"location_code\"] = req_location_data_with_pin[\"location_code\"].astype(int)"
   ]
  },
  {
   "cell_type": "code",
   "execution_count": null,
   "id": "aeb357bf",
   "metadata": {},
   "outputs": [],
   "source": [
    "## removing string na\n",
    "req_location_data_with_pin.loc[req_location_data_with_pin.pincode.isna(),\"pincode\"]=\"NA\"\n",
    "req_location_data_with_pin.loc[req_location_data_with_pin.latitude.isna(),\"latitude\"]=\"NA\"\n",
    "req_location_data_with_pin.loc[req_location_data_with_pin.longitude.isna(),\"longitude\"]=\"NA\"\n",
    "req_location_data_with_pin.dropna(inplace=True)"
   ]
  },
  {
   "cell_type": "code",
   "execution_count": null,
   "id": "1af388d2",
   "metadata": {},
   "outputs": [],
   "source": [
    "pincode_data_boundary = json.load(open(\"India_Pincode_Boundary.geojson\"))\n",
    "\n",
    "#pincode_data_boundary"
   ]
  },
  {
   "cell_type": "code",
   "execution_count": null,
   "id": "5afd39c3",
   "metadata": {},
   "outputs": [],
   "source": [
    "city  = \"Cochin\""
   ]
  },
  {
   "cell_type": "code",
   "execution_count": null,
   "id": "ec9d46a7",
   "metadata": {},
   "outputs": [],
   "source": [
    "filtered_data = []\n",
    "filtered_pincodes=set(req_location_data_with_pin[req_location_data_with_pin.city==city.lower()].pincode.astype(str).unique())\n",
    "\n",
    "filtered_pincodes = set([pincode if len(pincode.split(\".\"))==1 else pincode.split(\".\")[0]  for pincode in filtered_pincodes])\n",
    "for i in range(len(pincode_data_boundary[\"features\"])):\n",
    "    if pincode_data_boundary[\"features\"][i][\"properties\"][\"pincode\"] in filtered_pincodes :\n",
    "        filtered_data.append(pincode_data_boundary[\"features\"][i])"
   ]
  },
  {
   "cell_type": "code",
   "execution_count": null,
   "id": "b4c098c1",
   "metadata": {},
   "outputs": [],
   "source": [
    "pincode_data_boundary_bangalore = {\"type\":\"FeatureCollection\",\n",
    "\"name\":\"India_Pincode_02122020\",\n",
    "\"crs\":{'type': 'name', 'properties': {'name': 'urn:ogc:def:crs:OGC:1.3:CRS84'}},\n",
    "\"features\": filtered_data  }"
   ]
  },
  {
   "cell_type": "code",
   "execution_count": null,
   "id": "5bd35206",
   "metadata": {},
   "outputs": [],
   "source": [
    "pd.DataFrame.from_dict(pincode_data_boundary[\"features\"])"
   ]
  },
  {
   "cell_type": "code",
   "execution_count": null,
   "id": "f1c68fd9",
   "metadata": {},
   "outputs": [],
   "source": [
    "## converting to polygon format and finding cetroid for each boundary\n",
    "ls= [list(pincode_data_boundary[\"features\"][i][\"properties\"].values())+pincode_data_boundary[\"features\"][i][\"geometry\"][\"coordinates\"][0] for i in range(len(pincode_data_boundary[\"features\"]))]\n",
    "\n",
    "geojson_to_dataframe = pd.DataFrame(ls)\n",
    "\n",
    "geojson_to_dataframe[\"geometry\"] = geojson_to_dataframe[5].apply(Polygon)\n",
    "\n",
    "geojson_to_dataframe = geojson_to_dataframe.drop(columns=[5,6,7,8,9])\n",
    "\n",
    "geojson_to_dataframe.columns = [\"pincode\",\"state\",\"district\",\"officename\",\"officetype\",\"geometry\"]\n",
    "\n",
    "geojson_to_geodataframe = gpd.GeoDataFrame(geojson_to_dataframe)\n",
    "\n",
    "geojson_to_geodataframe[\"centroid\"] = geojson_to_geodataframe.geometry.centroid"
   ]
  },
  {
   "cell_type": "code",
   "execution_count": null,
   "id": "33238ab8",
   "metadata": {},
   "outputs": [],
   "source": [
    "geojson_to_geodataframe.head()"
   ]
  },
  {
   "cell_type": "code",
   "execution_count": null,
   "id": "439df17d",
   "metadata": {},
   "outputs": [],
   "source": [
    "pincodes_from_lat_long = geojson_to_geodataframe.copy()\n",
    "pincodes_from_lat_long.pincode = pincodes_from_lat_long.pincode.astype(str)\n",
    "pincodes_from_lat_long = pincodes_from_lat_long[pincodes_from_lat_long.pincode.isin(filtered_pincodes)]"
   ]
  },
  {
   "cell_type": "code",
   "execution_count": null,
   "id": "f7b22f97",
   "metadata": {},
   "outputs": [],
   "source": [
    "##for focusing on that location\n",
    "my_map = folium.Map(location = [req_location_data_with_pin[req_location_data_with_pin.city==city.lower()].latitude.mean(),\n",
    "                                req_location_data_with_pin[req_location_data_with_pin.city==city.lower()].longitude.mean()],\n",
    "                                        zoom_start = 11,control_scale=True)"
   ]
  },
  {
   "cell_type": "code",
   "execution_count": null,
   "id": "f3c13344",
   "metadata": {},
   "outputs": [],
   "source": [
    "# for potting the pincode boundaries\n",
    "folium.GeoJson(\n",
    "            pincode_data_boundary_bangalore,\n",
    "            style_function=lambda feature: {\n",
    "                \"fillColor\": \"yellow\",\n",
    "                'color': \"blue\",\n",
    "                'weight': 1,\n",
    "                \"fill_opacity\": 0    \n",
    "                #,'fillOpacity': fill_opacity \n",
    "            }, name = \"store_locations\").add_to(my_map)"
   ]
  },
  {
   "cell_type": "code",
   "execution_count": null,
   "id": "27d80469",
   "metadata": {},
   "outputs": [],
   "source": [
    "# for marking the stores with popup\n",
    "for indice,row in req_location_data_with_pin[req_location_data_with_pin.city==city.lower()].iterrows():\n",
    "    html=f\"\"\"\n",
    "        <h1> {row[\"name\"]}</h1>\n",
    "        <p>Properties</p>\n",
    "        <ul>\n",
    "            <li>Location_code: {row.location_code}</li>\n",
    "            <li>City: {row.city}</li>\n",
    "            <li>Pincode:{row.pincode}</li>\n",
    "            <li>latitude:{row.latitude}</li>\n",
    "            <li>longitude:{row.longitude}</li>\n",
    "            <li>format:{row.format}</li>\n",
    "        </ul>\n",
    "        </p>\n",
    "        \"\"\"\n",
    "    iframe = folium.IFrame(html=html, width=300, height=300)\n",
    "    popup = folium.Popup(iframe, max_width=3650)\n",
    "    folium.Marker([row.latitude, row.longitude],\n",
    "               popup = popup).add_to(my_map)\n",
    "    \n",
    "    \n",
    "# for indice,row in req_location_data_with_pin[req_location_data_with_pin.city==\"gajuwaka\"].iterrows():\n",
    "#     html=f\"\"\"\n",
    "#         <h1> {row[\"name\"]}</h1>\n",
    "#         <p>Properties</p>\n",
    "#         <ul>\n",
    "#             <li>Location_code: {row.location_code}</li>\n",
    "#             <li>City: {row.city}</li>\n",
    "#             <li>Pincode:{row.pincode}</li>\n",
    "#             <li>latitude:{row.latitude}</li>\n",
    "#             <li>longitude:{row.longitude}</li>\n",
    "#             <li>format:{row.format}</li>\n",
    "#         </ul>\n",
    "#         </p>\n",
    "#         \"\"\"\n",
    "#     iframe = folium.IFrame(html=html, width=300, height=300)\n",
    "#     popup = folium.Popup(iframe, max_width=3650)\n",
    "#     folium.Marker([row.latitude, row.longitude],\n",
    "#                popup = popup,\n",
    "#                  icon=folium.Icon(color=\"red\")).add_to(my_map)\n",
    "    \n",
    "\n",
    "\n",
    "\n",
    "# whats app data\n",
    "# for indice,row in req_location_data_with_pin[req_location_data_with_pin.city==city.lower()].iterrows():\n",
    "#     html=f\"\"\"\n",
    "#         <h1> {row[\"name\"]}</h1>\n",
    "#         <p>Properties</p>\n",
    "#         <ul>\n",
    "#             <li>Location_code: {row.location_code}</li>\n",
    "#             <li>City: {row.revised_city}</li>\n",
    "#             <li>Pincode:{row.pincode}</li>\n",
    "#             <li>latitude:{row.store_latitude}</li>\n",
    "#             <li>longitude:{row.store_longitude}</li>\n",
    "#         </ul>\n",
    "#         </p>\n",
    "#         \"\"\"\n",
    "#     iframe = folium.IFrame(html=html, width=300, height=300)\n",
    "#     popup = folium.Popup(iframe, max_width=3650)\n",
    "#     folium.Marker([row.store_latitude, row.store_longitude],\n",
    "#                popup = popup).add_to(my_map)\n",
    "\n",
    "\n",
    "# for plotting pincode names\n",
    "for indice,row in pincodes_from_lat_long.iterrows():\n",
    "    folium.Marker(location = [row.centroid.y, row.centroid.x],\n",
    "                  popup =row.pincode,\n",
    "                  icon=folium.DivIcon(html=f\"\"\"<div style=\"font-family: courier new; color: red\">{row.pincode}</div>\"\"\")\n",
    "                 ).add_child(folium.Popup(row.pincode)).add_to(my_map)\n",
    "    \n",
    "\n",
    "# for indice,row in req_location_data_with_pin[req_location_data_with_pin.city==city.lower()].iterrows():\n",
    "#     folium.Circle([row.latitude,row.longitude],\n",
    "#                  radius=10000,\n",
    "#                  fill_color=\"green\",\n",
    "#                  stroke=False,\n",
    "#                  fillopacity=1).add_to(my_map)"
   ]
  },
  {
   "cell_type": "code",
   "execution_count": null,
   "id": "6874a6b2",
   "metadata": {},
   "outputs": [],
   "source": [
    "my_map.save(\"{city}_map.html\".format(city=city))"
   ]
  },
  {
   "cell_type": "code",
   "execution_count": null,
   "id": "63c87de7",
   "metadata": {},
   "outputs": [],
   "source": [
    "# for pop up with mouse hovering\n",
    "\n",
    "with open(\"{city}_map.html\".format(city=city)) as inf:\n",
    "    txt = inf.read()\n",
    "\n",
    "#Find all the markers names given by folium\n",
    "markers = re.findall(r'\\bmarker_\\w+', txt)\n",
    "markers = list(set(markers))\n",
    "\n",
    "for marker in markers:\n",
    "    for linenum,line in enumerate( fileinput.FileInput(\"{city}_map.html\".format(city=city),inplace=1) ):\n",
    "        pattern = marker + \".bindPopup\"\n",
    "        pattern2 = marker + \".on('mouseover', function (e) {this.openPopup();});\"\n",
    "        pattern3 = marker + \".on('mouseout', function (e) {this.closePopup();});\"\n",
    "\n",
    "        if pattern in line:\n",
    "            print(line.rstrip())\n",
    "            print(pattern2)\n",
    "            print(pattern3)\n",
    "        else:\n",
    "            print(line.rstrip())"
   ]
  },
  {
   "cell_type": "code",
   "execution_count": null,
   "id": "6f3b4b0f",
   "metadata": {},
   "outputs": [],
   "source": [
    "# for pop up with mouse hovering\n",
    "\n",
    "with open(\"{city}_map.html\".format(city=city)) as inf:\n",
    "    txt = inf.read()\n",
    "\n",
    "#Find all the markers names given by folium\n",
    "markers = re.findall(r'\\bmarker_\\w+', txt)\n",
    "markers = list(set(markers))\n",
    "\n",
    "for marker in markers:\n",
    "    for linenum,line in enumerate( fileinput.FileInput(\"{city}_map.html\".format(city=city),inplace=1) ):\n",
    "        pattern = marker + \".bindPopup\"\n",
    "        pattern2 = marker + \".on('mouseover', function (e) {this.openPopup();});\"\n",
    "        pattern3 = marker + \".on('mouseout', function (e) {this.closePopup();});\"\n",
    "\n",
    "        if pattern in line:\n",
    "            print(line.rstrip())\n",
    "            print(pattern2)\n",
    "            print(pattern3)\n",
    "        else:\n",
    "            print(line.rstrip())"
   ]
  },
  {
   "cell_type": "code",
   "execution_count": null,
   "id": "5f79f415",
   "metadata": {},
   "outputs": [],
   "source": []
  }
 ],
 "metadata": {
  "kernelspec": {
   "display_name": "Python 3 (ipykernel)",
   "language": "python",
   "name": "python3"
  },
  "language_info": {
   "codemirror_mode": {
    "name": "ipython",
    "version": 3
   },
   "file_extension": ".py",
   "mimetype": "text/x-python",
   "name": "python",
   "nbconvert_exporter": "python",
   "pygments_lexer": "ipython3",
   "version": "3.9.7"
  }
 },
 "nbformat": 4,
 "nbformat_minor": 5
}
